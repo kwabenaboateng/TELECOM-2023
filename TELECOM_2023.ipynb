{
 "cells": [
  {
   "cell_type": "markdown",
   "metadata": {},
   "source": [
    "### <center><b>TELECOM 2023</b></center>"
   ]
  },
  {
   "cell_type": "markdown",
   "metadata": {},
   "source": [
    "IMPORT LIBRARY PACKAGES"
   ]
  },
  {
   "cell_type": "code",
   "execution_count": 1,
   "metadata": {},
   "outputs": [],
   "source": [
    "import numpy as np\n",
    "import pandas as pd\n",
    "import seaborn as sns\n",
    "import calendar\n",
    "import plotly.express as px\n",
    "import plotly.graph_objs as go\n",
    "import matplotlib.pyplot as plt\n",
    "\n",
    "from sklearn.preprocessing import LabelEncoder"
   ]
  },
  {
   "cell_type": "markdown",
   "metadata": {},
   "source": [
    "LOAD AND DISPLAY DATASET"
   ]
  },
  {
   "cell_type": "code",
   "execution_count": 2,
   "metadata": {},
   "outputs": [
    {
     "data": {
      "text/html": [
       "<div>\n",
       "<style scoped>\n",
       "    .dataframe tbody tr th:only-of-type {\n",
       "        vertical-align: middle;\n",
       "    }\n",
       "\n",
       "    .dataframe tbody tr th {\n",
       "        vertical-align: top;\n",
       "    }\n",
       "\n",
       "    .dataframe thead th {\n",
       "        text-align: right;\n",
       "    }\n",
       "</style>\n",
       "<table border=\"1\" class=\"dataframe\">\n",
       "  <thead>\n",
       "    <tr style=\"text-align: right;\">\n",
       "      <th></th>\n",
       "      <th>ID</th>\n",
       "      <th>Name</th>\n",
       "      <th>Issue Type</th>\n",
       "      <th>Phone</th>\n",
       "      <th>Email</th>\n",
       "      <th>Location</th>\n",
       "      <th>Issue</th>\n",
       "      <th>Customer Device</th>\n",
       "      <th>Resolved</th>\n",
       "      <th>Escalated</th>\n",
       "      <th>Date</th>\n",
       "      <th>Logged By</th>\n",
       "    </tr>\n",
       "  </thead>\n",
       "  <tbody>\n",
       "    <tr>\n",
       "      <th>0</th>\n",
       "      <td>6425</td>\n",
       "      <td>Rahama Adam</td>\n",
       "      <td>4G</td>\n",
       "      <td>246259213</td>\n",
       "      <td>NaN</td>\n",
       "      <td>DOME</td>\n",
       "      <td>Debit Without Value</td>\n",
       "      <td>4G Outdoor Router</td>\n",
       "      <td>True</td>\n",
       "      <td>False</td>\n",
       "      <td>2/1/2023 6:52</td>\n",
       "      <td>pierrette.ahiadorme</td>\n",
       "    </tr>\n",
       "    <tr>\n",
       "      <th>1</th>\n",
       "      <td>6426</td>\n",
       "      <td>Emma Quayson</td>\n",
       "      <td>4G</td>\n",
       "      <td>558128657</td>\n",
       "      <td>NaN</td>\n",
       "      <td>KUNTUNSE</td>\n",
       "      <td>Debit Without Value</td>\n",
       "      <td>4G Outdoor Router</td>\n",
       "      <td>True</td>\n",
       "      <td>False</td>\n",
       "      <td>2/1/2023 6:58</td>\n",
       "      <td>pierrette.ahiadorme</td>\n",
       "    </tr>\n",
       "    <tr>\n",
       "      <th>2</th>\n",
       "      <td>6427</td>\n",
       "      <td>maxwellashie</td>\n",
       "      <td>4G</td>\n",
       "      <td>266375794</td>\n",
       "      <td>NaN</td>\n",
       "      <td>ACCRA</td>\n",
       "      <td>Debit Without Value</td>\n",
       "      <td>4G Outdoor Router</td>\n",
       "      <td>True</td>\n",
       "      <td>False</td>\n",
       "      <td>2/1/2023 7:01</td>\n",
       "      <td>pierrette.ahiadorme</td>\n",
       "    </tr>\n",
       "    <tr>\n",
       "      <th>3</th>\n",
       "      <td>6428</td>\n",
       "      <td>Seyram Mina</td>\n",
       "      <td>4G</td>\n",
       "      <td>244736720</td>\n",
       "      <td>NaN</td>\n",
       "      <td>ACCRA</td>\n",
       "      <td>Debit Without Value</td>\n",
       "      <td>Not Sure</td>\n",
       "      <td>True</td>\n",
       "      <td>False</td>\n",
       "      <td>2/1/2023 7:09</td>\n",
       "      <td>pierrette.ahiadorme</td>\n",
       "    </tr>\n",
       "    <tr>\n",
       "      <th>4</th>\n",
       "      <td>6429</td>\n",
       "      <td>Maame Attafua</td>\n",
       "      <td>4G</td>\n",
       "      <td>246539999</td>\n",
       "      <td>NaN</td>\n",
       "      <td>AIRPORT RESIDENTIAL</td>\n",
       "      <td>Debit Without Value</td>\n",
       "      <td>Not Sure</td>\n",
       "      <td>True</td>\n",
       "      <td>False</td>\n",
       "      <td>2/1/2023 7:15</td>\n",
       "      <td>pierrette.ahiadorme</td>\n",
       "    </tr>\n",
       "    <tr>\n",
       "      <th>...</th>\n",
       "      <td>...</td>\n",
       "      <td>...</td>\n",
       "      <td>...</td>\n",
       "      <td>...</td>\n",
       "      <td>...</td>\n",
       "      <td>...</td>\n",
       "      <td>...</td>\n",
       "      <td>...</td>\n",
       "      <td>...</td>\n",
       "      <td>...</td>\n",
       "      <td>...</td>\n",
       "      <td>...</td>\n",
       "    </tr>\n",
       "    <tr>\n",
       "      <th>4414</th>\n",
       "      <td>10839</td>\n",
       "      <td>Paddy</td>\n",
       "      <td>Inquiry</td>\n",
       "      <td>559270855</td>\n",
       "      <td>NaN</td>\n",
       "      <td>SPINTEX</td>\n",
       "      <td>Service Inquiry</td>\n",
       "      <td>FTTH</td>\n",
       "      <td>True</td>\n",
       "      <td>False</td>\n",
       "      <td>30/12/2023 11:13:18</td>\n",
       "      <td>fredrick.boateng</td>\n",
       "    </tr>\n",
       "    <tr>\n",
       "      <th>4415</th>\n",
       "      <td>10840</td>\n",
       "      <td>Mr. Crabbe</td>\n",
       "      <td>FTTH</td>\n",
       "      <td>204200060</td>\n",
       "      <td>NaN</td>\n",
       "      <td>LABONE</td>\n",
       "      <td>Connection Issue</td>\n",
       "      <td>FTTH</td>\n",
       "      <td>True</td>\n",
       "      <td>False</td>\n",
       "      <td>30/12/2023 13:03:41</td>\n",
       "      <td>fredrick.boateng</td>\n",
       "    </tr>\n",
       "    <tr>\n",
       "      <th>4416</th>\n",
       "      <td>10841</td>\n",
       "      <td>Millicent Owusu~Ansah</td>\n",
       "      <td>4G</td>\n",
       "      <td>500477828</td>\n",
       "      <td>NaN</td>\n",
       "      <td>MALLAM</td>\n",
       "      <td>Connection Issue</td>\n",
       "      <td>4G Outdoor Router</td>\n",
       "      <td>True</td>\n",
       "      <td>True</td>\n",
       "      <td>30/12/2023 13:43:23</td>\n",
       "      <td>fredrick.boateng</td>\n",
       "    </tr>\n",
       "    <tr>\n",
       "      <th>4417</th>\n",
       "      <td>10842</td>\n",
       "      <td>FRANK</td>\n",
       "      <td>4G</td>\n",
       "      <td>533817520</td>\n",
       "      <td>NaN</td>\n",
       "      <td>TEMA</td>\n",
       "      <td>Connection Issue</td>\n",
       "      <td>4G Outdoor Router</td>\n",
       "      <td>True</td>\n",
       "      <td>True</td>\n",
       "      <td>30/12/2023 14:58:47</td>\n",
       "      <td>fredrick.boateng</td>\n",
       "    </tr>\n",
       "    <tr>\n",
       "      <th>4418</th>\n",
       "      <td>10843</td>\n",
       "      <td>Randy</td>\n",
       "      <td>Inquiry</td>\n",
       "      <td>544569333</td>\n",
       "      <td>NaN</td>\n",
       "      <td>KUNTUNSE</td>\n",
       "      <td>Service Inquiry</td>\n",
       "      <td>FTTH</td>\n",
       "      <td>True</td>\n",
       "      <td>False</td>\n",
       "      <td>30/12/2023 16:00:45</td>\n",
       "      <td>fredrick.boateng</td>\n",
       "    </tr>\n",
       "  </tbody>\n",
       "</table>\n",
       "<p>4419 rows × 12 columns</p>\n",
       "</div>"
      ],
      "text/plain": [
       "         ID                   Name Issue Type      Phone Email  \\\n",
       "0      6425            Rahama Adam         4G  246259213   NaN   \n",
       "1      6426           Emma Quayson         4G  558128657   NaN   \n",
       "2      6427           maxwellashie         4G  266375794   NaN   \n",
       "3      6428            Seyram Mina         4G  244736720   NaN   \n",
       "4      6429          Maame Attafua         4G  246539999   NaN   \n",
       "...     ...                    ...        ...        ...   ...   \n",
       "4414  10839                  Paddy    Inquiry  559270855   NaN   \n",
       "4415  10840             Mr. Crabbe       FTTH  204200060   NaN   \n",
       "4416  10841  Millicent Owusu~Ansah         4G  500477828   NaN   \n",
       "4417  10842                  FRANK         4G  533817520   NaN   \n",
       "4418  10843                  Randy    Inquiry  544569333   NaN   \n",
       "\n",
       "                 Location                Issue    Customer Device  Resolved  \\\n",
       "0                    DOME  Debit Without Value  4G Outdoor Router      True   \n",
       "1                KUNTUNSE  Debit Without Value  4G Outdoor Router      True   \n",
       "2                   ACCRA  Debit Without Value  4G Outdoor Router      True   \n",
       "3                   ACCRA  Debit Without Value           Not Sure      True   \n",
       "4     AIRPORT RESIDENTIAL  Debit Without Value           Not Sure      True   \n",
       "...                   ...                  ...                ...       ...   \n",
       "4414              SPINTEX      Service Inquiry               FTTH      True   \n",
       "4415               LABONE     Connection Issue               FTTH      True   \n",
       "4416               MALLAM     Connection Issue  4G Outdoor Router      True   \n",
       "4417                 TEMA     Connection Issue  4G Outdoor Router      True   \n",
       "4418             KUNTUNSE      Service Inquiry               FTTH      True   \n",
       "\n",
       "      Escalated                 Date            Logged By  \n",
       "0         False        2/1/2023 6:52  pierrette.ahiadorme  \n",
       "1         False        2/1/2023 6:58  pierrette.ahiadorme  \n",
       "2         False        2/1/2023 7:01  pierrette.ahiadorme  \n",
       "3         False        2/1/2023 7:09  pierrette.ahiadorme  \n",
       "4         False        2/1/2023 7:15  pierrette.ahiadorme  \n",
       "...         ...                  ...                  ...  \n",
       "4414      False  30/12/2023 11:13:18     fredrick.boateng  \n",
       "4415      False  30/12/2023 13:03:41     fredrick.boateng  \n",
       "4416       True  30/12/2023 13:43:23     fredrick.boateng  \n",
       "4417       True  30/12/2023 14:58:47     fredrick.boateng  \n",
       "4418      False  30/12/2023 16:00:45     fredrick.boateng  \n",
       "\n",
       "[4419 rows x 12 columns]"
      ]
     },
     "execution_count": 2,
     "metadata": {},
     "output_type": "execute_result"
    }
   ],
   "source": [
    "Telecom_2023 = pd.read_csv('TELECOM 2023.csv')\n",
    "Telecom_2023"
   ]
  },
  {
   "cell_type": "markdown",
   "metadata": {},
   "source": [
    "### <b>DATA UNDERSTANDING</b>"
   ]
  },
  {
   "cell_type": "markdown",
   "metadata": {},
   "source": [
    "ID: Unique identifier for each customer complaint.\n",
    "\n",
    "Name: Name of the customer reporting the issue.\n",
    "\n",
    "Issue Type: Type or category of the reported issue.\n",
    "\n",
    "Phone: Contact phone number of the customer.\n",
    "\n",
    "Email: Contact email address of the customer.\n",
    "\n",
    "Location: Location where the issue was reported.\n",
    "\n",
    "Issue: Description of the reported issue.\n",
    "\n",
    "Customer Device: Device or equipment involved in the reported issue.\n",
    "\n",
    "Resolved: Whether the issue was resolved or not (Yes/No).\n",
    "\n",
    "Escalated: Whether the issue was escalated (Yes/No).\n",
    "\n",
    "Date: Date when the issue was logged.\n",
    "\n",
    "Logged By: Name of the person who logged the issue."
   ]
  },
  {
   "cell_type": "markdown",
   "metadata": {},
   "source": [
    "### <b> DATA OVERVIEW </b>"
   ]
  },
  {
   "cell_type": "markdown",
   "metadata": {},
   "source": [
    "GENERAL INFORMATION"
   ]
  },
  {
   "cell_type": "code",
   "execution_count": 3,
   "metadata": {},
   "outputs": [
    {
     "name": "stdout",
     "output_type": "stream",
     "text": [
      "<class 'pandas.core.frame.DataFrame'>\n",
      "RangeIndex: 4419 entries, 0 to 4418\n",
      "Data columns (total 12 columns):\n",
      " #   Column           Non-Null Count  Dtype \n",
      "---  ------           --------------  ----- \n",
      " 0   ID               4419 non-null   int64 \n",
      " 1   Name             4419 non-null   object\n",
      " 2   Issue Type       4419 non-null   object\n",
      " 3   Phone            4419 non-null   int64 \n",
      " 4   Email            643 non-null    object\n",
      " 5   Location         4419 non-null   object\n",
      " 6   Issue            4419 non-null   object\n",
      " 7   Customer Device  4419 non-null   object\n",
      " 8   Resolved         4419 non-null   bool  \n",
      " 9   Escalated        4419 non-null   bool  \n",
      " 10  Date             4419 non-null   object\n",
      " 11  Logged By        4419 non-null   object\n",
      "dtypes: bool(2), int64(2), object(8)\n",
      "memory usage: 354.0+ KB\n"
     ]
    }
   ],
   "source": [
    "Telecom_2023.info()"
   ]
  },
  {
   "cell_type": "markdown",
   "metadata": {},
   "source": [
    "CHECK FOR MISSING VALUES"
   ]
  },
  {
   "cell_type": "code",
   "execution_count": 4,
   "metadata": {},
   "outputs": [
    {
     "data": {
      "text/html": [
       "<div>\n",
       "<style scoped>\n",
       "    .dataframe tbody tr th:only-of-type {\n",
       "        vertical-align: middle;\n",
       "    }\n",
       "\n",
       "    .dataframe tbody tr th {\n",
       "        vertical-align: top;\n",
       "    }\n",
       "\n",
       "    .dataframe thead th {\n",
       "        text-align: right;\n",
       "    }\n",
       "</style>\n",
       "<table border=\"1\" class=\"dataframe\">\n",
       "  <thead>\n",
       "    <tr style=\"text-align: right;\">\n",
       "      <th></th>\n",
       "      <th>ID</th>\n",
       "      <th>Name</th>\n",
       "      <th>Issue Type</th>\n",
       "      <th>Phone</th>\n",
       "      <th>Email</th>\n",
       "      <th>Location</th>\n",
       "      <th>Issue</th>\n",
       "      <th>Customer Device</th>\n",
       "      <th>Resolved</th>\n",
       "      <th>Escalated</th>\n",
       "      <th>Date</th>\n",
       "      <th>Logged By</th>\n",
       "    </tr>\n",
       "  </thead>\n",
       "  <tbody>\n",
       "    <tr>\n",
       "      <th>0</th>\n",
       "      <td>False</td>\n",
       "      <td>False</td>\n",
       "      <td>False</td>\n",
       "      <td>False</td>\n",
       "      <td>True</td>\n",
       "      <td>False</td>\n",
       "      <td>False</td>\n",
       "      <td>False</td>\n",
       "      <td>False</td>\n",
       "      <td>False</td>\n",
       "      <td>False</td>\n",
       "      <td>False</td>\n",
       "    </tr>\n",
       "    <tr>\n",
       "      <th>1</th>\n",
       "      <td>False</td>\n",
       "      <td>False</td>\n",
       "      <td>False</td>\n",
       "      <td>False</td>\n",
       "      <td>True</td>\n",
       "      <td>False</td>\n",
       "      <td>False</td>\n",
       "      <td>False</td>\n",
       "      <td>False</td>\n",
       "      <td>False</td>\n",
       "      <td>False</td>\n",
       "      <td>False</td>\n",
       "    </tr>\n",
       "    <tr>\n",
       "      <th>2</th>\n",
       "      <td>False</td>\n",
       "      <td>False</td>\n",
       "      <td>False</td>\n",
       "      <td>False</td>\n",
       "      <td>True</td>\n",
       "      <td>False</td>\n",
       "      <td>False</td>\n",
       "      <td>False</td>\n",
       "      <td>False</td>\n",
       "      <td>False</td>\n",
       "      <td>False</td>\n",
       "      <td>False</td>\n",
       "    </tr>\n",
       "    <tr>\n",
       "      <th>3</th>\n",
       "      <td>False</td>\n",
       "      <td>False</td>\n",
       "      <td>False</td>\n",
       "      <td>False</td>\n",
       "      <td>True</td>\n",
       "      <td>False</td>\n",
       "      <td>False</td>\n",
       "      <td>False</td>\n",
       "      <td>False</td>\n",
       "      <td>False</td>\n",
       "      <td>False</td>\n",
       "      <td>False</td>\n",
       "    </tr>\n",
       "    <tr>\n",
       "      <th>4</th>\n",
       "      <td>False</td>\n",
       "      <td>False</td>\n",
       "      <td>False</td>\n",
       "      <td>False</td>\n",
       "      <td>True</td>\n",
       "      <td>False</td>\n",
       "      <td>False</td>\n",
       "      <td>False</td>\n",
       "      <td>False</td>\n",
       "      <td>False</td>\n",
       "      <td>False</td>\n",
       "      <td>False</td>\n",
       "    </tr>\n",
       "    <tr>\n",
       "      <th>...</th>\n",
       "      <td>...</td>\n",
       "      <td>...</td>\n",
       "      <td>...</td>\n",
       "      <td>...</td>\n",
       "      <td>...</td>\n",
       "      <td>...</td>\n",
       "      <td>...</td>\n",
       "      <td>...</td>\n",
       "      <td>...</td>\n",
       "      <td>...</td>\n",
       "      <td>...</td>\n",
       "      <td>...</td>\n",
       "    </tr>\n",
       "    <tr>\n",
       "      <th>4414</th>\n",
       "      <td>False</td>\n",
       "      <td>False</td>\n",
       "      <td>False</td>\n",
       "      <td>False</td>\n",
       "      <td>True</td>\n",
       "      <td>False</td>\n",
       "      <td>False</td>\n",
       "      <td>False</td>\n",
       "      <td>False</td>\n",
       "      <td>False</td>\n",
       "      <td>False</td>\n",
       "      <td>False</td>\n",
       "    </tr>\n",
       "    <tr>\n",
       "      <th>4415</th>\n",
       "      <td>False</td>\n",
       "      <td>False</td>\n",
       "      <td>False</td>\n",
       "      <td>False</td>\n",
       "      <td>True</td>\n",
       "      <td>False</td>\n",
       "      <td>False</td>\n",
       "      <td>False</td>\n",
       "      <td>False</td>\n",
       "      <td>False</td>\n",
       "      <td>False</td>\n",
       "      <td>False</td>\n",
       "    </tr>\n",
       "    <tr>\n",
       "      <th>4416</th>\n",
       "      <td>False</td>\n",
       "      <td>False</td>\n",
       "      <td>False</td>\n",
       "      <td>False</td>\n",
       "      <td>True</td>\n",
       "      <td>False</td>\n",
       "      <td>False</td>\n",
       "      <td>False</td>\n",
       "      <td>False</td>\n",
       "      <td>False</td>\n",
       "      <td>False</td>\n",
       "      <td>False</td>\n",
       "    </tr>\n",
       "    <tr>\n",
       "      <th>4417</th>\n",
       "      <td>False</td>\n",
       "      <td>False</td>\n",
       "      <td>False</td>\n",
       "      <td>False</td>\n",
       "      <td>True</td>\n",
       "      <td>False</td>\n",
       "      <td>False</td>\n",
       "      <td>False</td>\n",
       "      <td>False</td>\n",
       "      <td>False</td>\n",
       "      <td>False</td>\n",
       "      <td>False</td>\n",
       "    </tr>\n",
       "    <tr>\n",
       "      <th>4418</th>\n",
       "      <td>False</td>\n",
       "      <td>False</td>\n",
       "      <td>False</td>\n",
       "      <td>False</td>\n",
       "      <td>True</td>\n",
       "      <td>False</td>\n",
       "      <td>False</td>\n",
       "      <td>False</td>\n",
       "      <td>False</td>\n",
       "      <td>False</td>\n",
       "      <td>False</td>\n",
       "      <td>False</td>\n",
       "    </tr>\n",
       "  </tbody>\n",
       "</table>\n",
       "<p>4419 rows × 12 columns</p>\n",
       "</div>"
      ],
      "text/plain": [
       "         ID   Name  Issue Type  Phone  Email  Location  Issue  \\\n",
       "0     False  False       False  False   True     False  False   \n",
       "1     False  False       False  False   True     False  False   \n",
       "2     False  False       False  False   True     False  False   \n",
       "3     False  False       False  False   True     False  False   \n",
       "4     False  False       False  False   True     False  False   \n",
       "...     ...    ...         ...    ...    ...       ...    ...   \n",
       "4414  False  False       False  False   True     False  False   \n",
       "4415  False  False       False  False   True     False  False   \n",
       "4416  False  False       False  False   True     False  False   \n",
       "4417  False  False       False  False   True     False  False   \n",
       "4418  False  False       False  False   True     False  False   \n",
       "\n",
       "      Customer Device  Resolved  Escalated   Date  Logged By  \n",
       "0               False     False      False  False      False  \n",
       "1               False     False      False  False      False  \n",
       "2               False     False      False  False      False  \n",
       "3               False     False      False  False      False  \n",
       "4               False     False      False  False      False  \n",
       "...               ...       ...        ...    ...        ...  \n",
       "4414            False     False      False  False      False  \n",
       "4415            False     False      False  False      False  \n",
       "4416            False     False      False  False      False  \n",
       "4417            False     False      False  False      False  \n",
       "4418            False     False      False  False      False  \n",
       "\n",
       "[4419 rows x 12 columns]"
      ]
     },
     "execution_count": 4,
     "metadata": {},
     "output_type": "execute_result"
    }
   ],
   "source": [
    "Telecom_2023.isna()"
   ]
  },
  {
   "cell_type": "code",
   "execution_count": 5,
   "metadata": {},
   "outputs": [
    {
     "data": {
      "text/plain": [
       "ID                    0\n",
       "Name                  0\n",
       "Issue Type            0\n",
       "Phone                 0\n",
       "Email              3776\n",
       "Location              0\n",
       "Issue                 0\n",
       "Customer Device       0\n",
       "Resolved              0\n",
       "Escalated             0\n",
       "Date                  0\n",
       "Logged By             0\n",
       "dtype: int64"
      ]
     },
     "execution_count": 5,
     "metadata": {},
     "output_type": "execute_result"
    }
   ],
   "source": [
    "Telecom_2023.isna().sum()"
   ]
  },
  {
   "cell_type": "markdown",
   "metadata": {},
   "source": [
    "DISPLAY MISSING VALUES HEATMAP"
   ]
  },
  {
   "cell_type": "code",
   "execution_count": 6,
   "metadata": {},
   "outputs": [
    {
     "data": {
      "text/plain": [
       "<AxesSubplot: >"
      ]
     },
     "execution_count": 6,
     "metadata": {},
     "output_type": "execute_result"
    },
    {
     "data": {
      "image/png": "[encoded data removed]",
      "text/plain": [
       "<Figure size 640x480 with 2 Axes>"
      ]
     },
     "metadata": {},
     "output_type": "display_data"
    }
   ],
   "source": [
    "sns.heatmap(Telecom_2023.isnull())"
   ]
  },
  {
   "cell_type": "code",
   "execution_count": 7,
   "metadata": {},
   "outputs": [
    {
     "data": {
      "text/html": [
       "<div>\n",
       "<style scoped>\n",
       "    .dataframe tbody tr th:only-of-type {\n",
       "        vertical-align: middle;\n",
       "    }\n",
       "\n",
       "    .dataframe tbody tr th {\n",
       "        vertical-align: top;\n",
       "    }\n",
       "\n",
       "    .dataframe thead th {\n",
       "        text-align: right;\n",
       "    }\n",
       "</style>\n",
       "<table border=\"1\" class=\"dataframe\">\n",
       "  <thead>\n",
       "    <tr style=\"text-align: right;\">\n",
       "      <th></th>\n",
       "      <th>ID</th>\n",
       "      <th>Phone</th>\n",
       "    </tr>\n",
       "  </thead>\n",
       "  <tbody>\n",
       "    <tr>\n",
       "      <th>count</th>\n",
       "      <td>4419.000000</td>\n",
       "      <td>4.419000e+03</td>\n",
       "    </tr>\n",
       "    <tr>\n",
       "      <th>mean</th>\n",
       "      <td>8634.000000</td>\n",
       "      <td>3.624567e+08</td>\n",
       "    </tr>\n",
       "    <tr>\n",
       "      <th>std</th>\n",
       "      <td>1275.799749</td>\n",
       "      <td>1.517860e+08</td>\n",
       "    </tr>\n",
       "    <tr>\n",
       "      <th>min</th>\n",
       "      <td>6425.000000</td>\n",
       "      <td>2.000097e+08</td>\n",
       "    </tr>\n",
       "    <tr>\n",
       "      <th>25%</th>\n",
       "      <td>7529.500000</td>\n",
       "      <td>2.440277e+08</td>\n",
       "    </tr>\n",
       "    <tr>\n",
       "      <th>50%</th>\n",
       "      <td>8634.000000</td>\n",
       "      <td>2.495656e+08</td>\n",
       "    </tr>\n",
       "    <tr>\n",
       "      <th>75%</th>\n",
       "      <td>9738.500000</td>\n",
       "      <td>5.444716e+08</td>\n",
       "    </tr>\n",
       "    <tr>\n",
       "      <th>max</th>\n",
       "      <td>10843.000000</td>\n",
       "      <td>8.471001e+08</td>\n",
       "    </tr>\n",
       "  </tbody>\n",
       "</table>\n",
       "</div>"
      ],
      "text/plain": [
       "                 ID         Phone\n",
       "count   4419.000000  4.419000e+03\n",
       "mean    8634.000000  3.624567e+08\n",
       "std     1275.799749  1.517860e+08\n",
       "min     6425.000000  2.000097e+08\n",
       "25%     7529.500000  2.440277e+08\n",
       "50%     8634.000000  2.495656e+08\n",
       "75%     9738.500000  5.444716e+08\n",
       "max    10843.000000  8.471001e+08"
      ]
     },
     "execution_count": 7,
     "metadata": {},
     "output_type": "execute_result"
    }
   ],
   "source": [
    "Telecom_2023.describe()"
   ]
  },
  {
   "cell_type": "code",
   "execution_count": 8,
   "metadata": {},
   "outputs": [
    {
     "data": {
      "text/html": [
       "<div>\n",
       "<style scoped>\n",
       "    .dataframe tbody tr th:only-of-type {\n",
       "        vertical-align: middle;\n",
       "    }\n",
       "\n",
       "    .dataframe tbody tr th {\n",
       "        vertical-align: top;\n",
       "    }\n",
       "\n",
       "    .dataframe thead th {\n",
       "        text-align: right;\n",
       "    }\n",
       "</style>\n",
       "<table border=\"1\" class=\"dataframe\">\n",
       "  <thead>\n",
       "    <tr style=\"text-align: right;\">\n",
       "      <th></th>\n",
       "      <th>count</th>\n",
       "      <th>unique</th>\n",
       "      <th>top</th>\n",
       "      <th>freq</th>\n",
       "    </tr>\n",
       "  </thead>\n",
       "  <tbody>\n",
       "    <tr>\n",
       "      <th>Name</th>\n",
       "      <td>4419</td>\n",
       "      <td>2203</td>\n",
       "      <td>Emmanuel</td>\n",
       "      <td>43</td>\n",
       "    </tr>\n",
       "    <tr>\n",
       "      <th>Issue Type</th>\n",
       "      <td>4419</td>\n",
       "      <td>6</td>\n",
       "      <td>4G</td>\n",
       "      <td>2571</td>\n",
       "    </tr>\n",
       "    <tr>\n",
       "      <th>Email</th>\n",
       "      <td>643</td>\n",
       "      <td>349</td>\n",
       "      <td>rc003261@gmail.com</td>\n",
       "      <td>12</td>\n",
       "    </tr>\n",
       "    <tr>\n",
       "      <th>Location</th>\n",
       "      <td>4419</td>\n",
       "      <td>160</td>\n",
       "      <td>KUNTUNSE</td>\n",
       "      <td>553</td>\n",
       "    </tr>\n",
       "    <tr>\n",
       "      <th>Issue</th>\n",
       "      <td>4419</td>\n",
       "      <td>25</td>\n",
       "      <td>Connection Issue</td>\n",
       "      <td>1546</td>\n",
       "    </tr>\n",
       "    <tr>\n",
       "      <th>Customer Device</th>\n",
       "      <td>4419</td>\n",
       "      <td>9</td>\n",
       "      <td>4G Outdoor Router</td>\n",
       "      <td>2690</td>\n",
       "    </tr>\n",
       "    <tr>\n",
       "      <th>Date</th>\n",
       "      <td>4419</td>\n",
       "      <td>4409</td>\n",
       "      <td>12/6/2023 11:30</td>\n",
       "      <td>2</td>\n",
       "    </tr>\n",
       "    <tr>\n",
       "      <th>Logged By</th>\n",
       "      <td>4419</td>\n",
       "      <td>6</td>\n",
       "      <td>john.hagan</td>\n",
       "      <td>1317</td>\n",
       "    </tr>\n",
       "  </tbody>\n",
       "</table>\n",
       "</div>"
      ],
      "text/plain": [
       "                count unique                 top  freq\n",
       "Name             4419   2203            Emmanuel    43\n",
       "Issue Type       4419      6                  4G  2571\n",
       "Email             643    349  rc003261@gmail.com    12\n",
       "Location         4419    160            KUNTUNSE   553\n",
       "Issue            4419     25    Connection Issue  1546\n",
       "Customer Device  4419      9   4G Outdoor Router  2690\n",
       "Date             4419   4409     12/6/2023 11:30     2\n",
       "Logged By        4419      6          john.hagan  1317"
      ]
     },
     "execution_count": 8,
     "metadata": {},
     "output_type": "execute_result"
    }
   ],
   "source": [
    "Telecom_2023.describe(include=object).T "
   ]
  },
  {
   "cell_type": "markdown",
   "metadata": {},
   "source": [
    "<b> DATA CLEANING </b>"
   ]
  },
  {
   "cell_type": "markdown",
   "metadata": {},
   "source": [
    "ISSUE TYPE COLUMN"
   ]
  },
  {
   "cell_type": "code",
   "execution_count": 9,
   "metadata": {},
   "outputs": [
    {
     "data": {
      "text/plain": [
       "Issue Type\n",
       "4G                                                   2571\n",
       "FTTH                                                 1279\n",
       "Inquiry                                               562\n",
       "Other                                                   4\n",
       "Inquiry                                                 2\n",
       "Regimanuel Estate, Silver Bells 2. Chesnut Nr. 8.       1\n",
       "Name: count, dtype: int64"
      ]
     },
     "execution_count": 9,
     "metadata": {},
     "output_type": "execute_result"
    }
   ],
   "source": [
    "Telecom_2023['Issue Type'].value_counts()"
   ]
  },
  {
   "cell_type": "code",
   "execution_count": 10,
   "metadata": {},
   "outputs": [
    {
     "data": {
      "text/plain": [
       "array(['4G', 'FTTH', 'Inquiry', 'Inquiry ',\n",
       "       'Regimanuel Estate, Silver Bells 2. Chesnut Nr. 8.', 'Other'],\n",
       "      dtype=object)"
      ]
     },
     "execution_count": 10,
     "metadata": {},
     "output_type": "execute_result"
    }
   ],
   "source": [
    "Telecom_2023['Issue Type'].unique()"
   ]
  },
  {
   "cell_type": "markdown",
   "metadata": {},
   "source": [
    "CORRECT ABNOMALIES IN THE ISSUE TYPE COLUMN"
   ]
  },
  {
   "cell_type": "code",
   "execution_count": 11,
   "metadata": {},
   "outputs": [],
   "source": [
    "Telecom_2023['Issue Type']=Telecom_2023['Issue Type'].replace ('Inquiry ', 'Inquiry')\n",
    "Telecom_2023['Issue Type']=Telecom_2023['Issue Type'].replace ('Regimanuel Estate, Silver Bells 2. Chesnut Nr. 8.', 'FTTH')"
   ]
  },
  {
   "cell_type": "markdown",
   "metadata": {},
   "source": [
    "DISPLAY ISSUE TYPE COLUMN AFTER CORRECTIONS"
   ]
  },
  {
   "cell_type": "code",
   "execution_count": 12,
   "metadata": {},
   "outputs": [
    {
     "data": {
      "text/plain": [
       "array(['4G', 'FTTH', 'Inquiry', 'Other'], dtype=object)"
      ]
     },
     "execution_count": 12,
     "metadata": {},
     "output_type": "execute_result"
    }
   ],
   "source": [
    "Telecom_2023['Issue Type'].unique()"
   ]
  },
  {
   "cell_type": "code",
   "execution_count": 13,
   "metadata": {},
   "outputs": [
    {
     "data": {
      "text/plain": [
       "4"
      ]
     },
     "execution_count": 13,
     "metadata": {},
     "output_type": "execute_result"
    }
   ],
   "source": [
    "Telecom_2023['Issue Type'].nunique()"
   ]
  },
  {
   "cell_type": "markdown",
   "metadata": {},
   "source": [
    "LOCATION COLUMN"
   ]
  },
  {
   "cell_type": "markdown",
   "metadata": {},
   "source": [
    "DISPLAY ALL UNIQUE LOCATIONS"
   ]
  },
  {
   "cell_type": "code",
   "execution_count": 14,
   "metadata": {},
   "outputs": [
    {
     "data": {
      "text/plain": [
       "array(['DOME', 'KUNTUNSE', 'ACCRA', 'AIRPORT RESIDENTIAL', 'TEMA',\n",
       "       'KASOA', 'KOFORIDUA', 'CANTONMENTS', 'MCCARTHY HILLS', 'PANTANG',\n",
       "       'REGIMANUEL', 'LABADI', 'POKUASE', 'RIDGE', 'ASHALEY BOTWE',\n",
       "       'LAPAZ', 'MALLAM', 'HAASTO', 'LEGON', 'AWOSHIE', 'OSU', 'ABLEKUMA',\n",
       "       'ABELEMKPE', 'KWABENYA', 'WESTLANDS', 'OFANKOR', 'AWUDOME',\n",
       "       'AGBOGBA', 'KOKOMLEMLE', 'SPINTEX', 'DANSOMAN', 'TSE ADDO',\n",
       "       'TEIMAN', 'DAWHENYA', 'ASHONGMAN', 'LABONE', 'KWASHIEMAN',\n",
       "       'SOWUTUOM', 'ACHIMOTA', 'DARKUMAN', 'KANTAMANTO', 'DZORWULU',\n",
       "       'MADINA', 'TESHIE', 'AKWETEYMAN', 'MEDEA', 'ADENTA', 'SAKUMONO',\n",
       "       'ODORKOR', 'TRASSACO', 'OYIBI', '37', 'TAIFA', 'RING ROAD',\n",
       "       'MAMPROBI', 'PIG FARM', 'ANYAA', 'ABOSSEY OKAI', 'AYI MENSAH',\n",
       "       'NANA KROM', 'ADJIRIGANOR', 'TAKORADI', 'ASYLUM DOWN', 'SARPEIMAN',\n",
       "       'DOBRO', 'KPONE', 'DODOWA', 'OYARIFA', 'UPSA', 'CIRCLE', 'POBIMAM',\n",
       "       'KAWUKUDI', 'ADABRAKA', 'ASHAIMAN', 'KOTOBABI', 'INDUSTRIAL AREA',\n",
       "       'ADJEI KOJO', 'TESANO', 'AMRAHIA', 'OKAISHIE', 'AMASAMAN',\n",
       "       'ADJEN KOTOKU', 'WEIJA', 'MATAHEKO', 'NIMA', 'PRAMPRAM', 'KPESHIE',\n",
       "       'NORTH INDUSTRIAL AREA', 'ABOKOBI', 'MAKOLA', 'KISSIEMAN',\n",
       "       'FADAMA', 'KORLE BU', 'ATWIMA KWANWOMA', 'KANESHIE', 'DANFA',\n",
       "       'NEW BORTIANOR', 'AFIENYA', 'SHIASHI', 'LASHIBI', 'LATEBIOKORSHIE',\n",
       "       'ATAKYEM', 'NSUFA', 'OGBOJO', 'NUNGUA', 'BORTIANOR',\n",
       "       'NINGO PRAMPRAM', 'NMAI DZORM', 'LAKESIDE ESTATE', 'ABURI',\n",
       "       'BOLGA', 'ODUMASE', 'RACE COURSE', 'AFARIWA', 'BORTEYMAN',\n",
       "       'BURMA CAMP', 'NEW APLAKU', 'KORLE GONNO', 'APENKWA', 'CAPE COAST',\n",
       "       'SAKAMAN', 'BUDUBRAM', 'TANTRA HILL ', 'TSUI BLEOO', 'MANJOR',\n",
       "       'AKIM ODA', 'BUBUASHIE', 'TABORA', 'KWEIMAN', 'NYANYANO',\n",
       "       'MICHEL CAMP', 'KANDA', 'KATAMANSO', 'AVORNYO', 'ODORGONNOO',\n",
       "       'SANTEO', 'ASHIYIE', 'SOGAKOPE', 'SANTA MARIA', 'ALAJO',\n",
       "       'KOKROTUMI', 'KWAHU', 'AWUTU SENYA EAST', 'SWEDRU', 'EKUMFI',\n",
       "       'KLAGON', 'GOMOA FETTEH', 'GRAPHIC ROAD', 'AFLAO',\n",
       "       'NGLESHI AMANFRO', 'NSAWAM', 'ABEASE', 'BUNSO (NSUTAM)', 'ABONO',\n",
       "       'ASOKORE', 'AFIAMAN', 'ASHALAJA', 'TRADE FAIR', 'SHUKURA',\n",
       "       'CHANTAN'], dtype=object)"
      ]
     },
     "execution_count": 14,
     "metadata": {},
     "output_type": "execute_result"
    }
   ],
   "source": [
    "Telecom_2023['Location'].unique()"
   ]
  },
  {
   "cell_type": "code",
   "execution_count": 15,
   "metadata": {},
   "outputs": [
    {
     "data": {
      "text/plain": [
       "160"
      ]
     },
     "execution_count": 15,
     "metadata": {},
     "output_type": "execute_result"
    }
   ],
   "source": [
    "Telecom_2023['Location'].nunique()"
   ]
  },
  {
   "cell_type": "markdown",
   "metadata": {},
   "source": [
    "ISSUE COLUMNS"
   ]
  },
  {
   "cell_type": "markdown",
   "metadata": {},
   "source": [
    "DISPLAY ALL UNIQUE ISSUES"
   ]
  },
  {
   "cell_type": "code",
   "execution_count": 17,
   "metadata": {},
   "outputs": [
    {
     "data": {
      "text/plain": [
       "array(['Debit Without Value', 'Manual Top Up Request', 'Connection Issue',\n",
       "       'Top Up Issue', 'Service Inquiry', 'Data Issues',\n",
       "       'Data Bundles Inquiry', 'Other', 'Manual Balance Request',\n",
       "       'Debit without value ', 'Relocation Request ',\n",
       "       'Debit Without Value ', 'debit without value', 'Connection Issue ',\n",
       "       'Debit without Value ', 'Service inquiry', 'Relocation Request',\n",
       "       'Service Inquiry ', 'Irregular Data Usage', 'Manual Top Up Reques',\n",
       "       'Top up Issue', 'Manual Top Up Request ', 'Others',\n",
       "       'Manual top up Request', 'Debit Without  Value'], dtype=object)"
      ]
     },
     "execution_count": 17,
     "metadata": {},
     "output_type": "execute_result"
    }
   ],
   "source": [
    "Telecom_2023['Issue'].unique()"
   ]
  },
  {
   "cell_type": "markdown",
   "metadata": {},
   "source": [
    "CORRECT ALL WRONGLY SPELT ISSUE NAMES"
   ]
  },
  {
   "cell_type": "code",
   "execution_count": 24,
   "metadata": {},
   "outputs": [],
   "source": [
    "Telecom_2023['Issue'] = Telecom_2023['Issue'].replace('Debit without value ','Debit Without Value')\n",
    "Telecom_2023['Issue'] = Telecom_2023['Issue'].replace('Debit Without Value ','Debit Without Value')\n",
    "Telecom_2023['Issue'] = Telecom_2023['Issue'].replace('debit without value','Debit Without Value')\n",
    "Telecom_2023['Issue'] = Telecom_2023['Issue'].replace('Debit without Value ','Debit Without Value')\n",
    "Telecom_2023['Issue'] = Telecom_2023['Issue'].replace('Relocation Request ','Relocation Request')\n",
    "Telecom_2023['Issue'] = Telecom_2023['Issue'].replace('Connection Issue ','Connection Issue')\n",
    "Telecom_2023['Issue'] = Telecom_2023['Issue'].replace('Manual Top Up Reques','Manual Top Up Request')\n",
    "Telecom_2023['Issue'] = Telecom_2023['Issue'].replace('Manual top up Request','Manual Top Up Request')\n",
    "Telecom_2023['Issue'] = Telecom_2023['Issue'].replace('Other','Others')\n",
    "Telecom_2023['Issue'] = Telecom_2023['Issue'].replace('Service Inquiry ','Service Inquiry')\n",
    "Telecom_2023['Issue'] = Telecom_2023['Issue'].replace('Service inquiry','Service Inquiry')\n",
    "Telecom_2023['Issue'] = Telecom_2023['Issue'].replace('Debit Without  Value','Debit Without Value')\n",
    "Telecom_2023['Issue'] = Telecom_2023['Issue'].replace('Top up Issue','Top Up Issue')\n",
    "Telecom_2023['Issue'] = Telecom_2023['Issue'].replace('Manual Top Up Request ','Manual Top Up Request')"
   ]
  },
  {
   "cell_type": "code",
   "execution_count": 25,
   "metadata": {},
   "outputs": [
    {
     "data": {
      "text/plain": [
       "array(['Debit Without Value', 'Manual Top Up Request', 'Connection Issue',\n",
       "       'Top Up Issue', 'Service Inquiry', 'Data Issues',\n",
       "       'Data Bundles Inquiry', 'Others', 'Manual Balance Request',\n",
       "       'Relocation Request', 'Irregular Data Usage'], dtype=object)"
      ]
     },
     "execution_count": 25,
     "metadata": {},
     "output_type": "execute_result"
    }
   ],
   "source": [
    "Telecom_2023['Issue'].unique()"
   ]
  },
  {
   "cell_type": "markdown",
   "metadata": {},
   "source": [
    "CUSTOMER DEVICE COLUMN"
   ]
  },
  {
   "cell_type": "code",
   "execution_count": 26,
   "metadata": {},
   "outputs": [
    {
     "data": {
      "text/plain": [
       "array(['4G Outdoor Router', 'Not Sure', 'FTTH', '4G Mifi',\n",
       "       '4G Indoor Router', 'Not Applicable', '4G', '4G outdoor',\n",
       "       '4G outdoor '], dtype=object)"
      ]
     },
     "execution_count": 26,
     "metadata": {},
     "output_type": "execute_result"
    }
   ],
   "source": [
    "Telecom_2023['Customer Device'].unique()"
   ]
  },
  {
   "cell_type": "markdown",
   "metadata": {},
   "source": [
    "CORRECT ALL WRONGLY SPELT DEVICE NAMES"
   ]
  },
  {
   "cell_type": "code",
   "execution_count": 31,
   "metadata": {},
   "outputs": [],
   "source": [
    "Telecom_2023['Customer Device'] = Telecom_2023['Customer Device'].replace ('4G outdoor','4G Outdoor Router')\n",
    "Telecom_2023['Customer Device'] = Telecom_2023['Customer Device'].replace ('4G outdoor ','4G Outdoor Router')\n",
    "Telecom_2023['Customer Device'] = Telecom_2023['Customer Device'].replace ('4G','4G Outdoor Router')\n"
   ]
  },
  {
   "cell_type": "code",
   "execution_count": 32,
   "metadata": {},
   "outputs": [
    {
     "data": {
      "text/plain": [
       "array(['4G Outdoor Router', 'Not Sure', 'FTTH', '4G Mifi',\n",
       "       '4G Indoor Router', 'Not Applicable'], dtype=object)"
      ]
     },
     "execution_count": 32,
     "metadata": {},
     "output_type": "execute_result"
    }
   ],
   "source": [
    "Telecom_2023['Customer Device'].unique()"
   ]
  },
  {
   "cell_type": "code",
   "execution_count": null,
   "metadata": {},
   "outputs": [],
   "source": []
  },
  {
   "cell_type": "code",
   "execution_count": null,
   "metadata": {},
   "outputs": [],
   "source": []
  },
  {
   "cell_type": "code",
   "execution_count": 33,
   "metadata": {},
   "outputs": [
    {
     "name": "stdout",
     "output_type": "stream",
     "text": [
      "General Overview:\n",
      "Total number of complaints logged: 4419\n",
      "Number of unique customers: 2203\n",
      "Number of unique issue types: 4\n",
      "\n"
     ]
    }
   ],
   "source": [
    "# 1. General Overview\n",
    "total_complaints = len(Telecom_2023)\n",
    "unique_customers = Telecom_2023['Name'].nunique()\n",
    "unique_issue_types = Telecom_2023['Issue Type'].nunique()\n",
    "\n",
    "print(\"General Overview:\")\n",
    "print(\"Total number of complaints logged:\", total_complaints)\n",
    "print(\"Number of unique customers:\", unique_customers)\n",
    "print(\"Number of unique issue types:\", unique_issue_types)\n",
    "print()"
   ]
  },
  {
   "cell_type": "code",
   "execution_count": 34,
   "metadata": {},
   "outputs": [
    {
     "name": "stdout",
     "output_type": "stream",
     "text": [
      "Issue Analysis:\n",
      "Frequency of each issue type:\n",
      "Issue Type\n",
      "4G         2571\n",
      "FTTH       1280\n",
      "Inquiry     564\n",
      "Other         4\n",
      "Name: count, dtype: int64\n",
      "Most common issues reported:\n",
      "Issue Type\n",
      "4G         2571\n",
      "FTTH       1280\n",
      "Inquiry     564\n",
      "Other         4\n",
      "Name: count, dtype: int64\n",
      "Distribution of issues by location:\n",
      "Issue Type    4G  FTTH  Inquiry  Other\n",
      "Location                              \n",
      "37           4.0   2.0      0.0    0.0\n",
      "ABEASE       0.0   0.0      1.0    0.0\n",
      "ABELEMKPE    3.0   0.0      1.0    0.0\n",
      "ABLEKUMA    36.0   0.0     14.0    0.0\n",
      "ABOKOBI      8.0   0.0      5.0    0.0\n",
      "...          ...   ...      ...    ...\n",
      "TSE ADDO    12.0   0.0      6.0    0.0\n",
      "TSUI BLEOO   1.0   0.0      0.0    0.0\n",
      "UPSA         3.0   0.0      2.0    0.0\n",
      "WEIJA       20.0   0.0     10.0    0.0\n",
      "WESTLANDS    0.0   0.0      1.0    0.0\n",
      "\n",
      "[160 rows x 4 columns]\n",
      "Most common customer devices involved in issues:\n",
      "Customer Device\n",
      "4G Outdoor Router    2694\n",
      "FTTH                 1569\n",
      "Not Sure               56\n",
      "4G Indoor Router       52\n",
      "4G Mifi                42\n",
      "Not Applicable          6\n",
      "Name: count, dtype: int64\n",
      "\n"
     ]
    }
   ],
   "source": [
    "# 2. Issue Analysis\n",
    "issue_frequency = Telecom_2023['Issue Type'].value_counts()\n",
    "common_issues = issue_frequency.head(5)\n",
    "issue_location_distribution = Telecom_2023.groupby('Location')['Issue Type'].value_counts().unstack().fillna(0)\n",
    "customer_device_distribution = Telecom_2023['Customer Device'].value_counts()\n",
    "\n",
    "print(\"Issue Analysis:\")\n",
    "print(\"Frequency of each issue type:\")\n",
    "print(issue_frequency)\n",
    "print(\"Most common issues reported:\")\n",
    "print(common_issues)\n",
    "print(\"Distribution of issues by location:\")\n",
    "print(issue_location_distribution)\n",
    "print(\"Most common customer devices involved in issues:\")\n",
    "print(customer_device_distribution)\n",
    "print()"
   ]
  },
  {
   "cell_type": "code",
   "execution_count": 35,
   "metadata": {},
   "outputs": [
    {
     "name": "stdout",
     "output_type": "stream",
     "text": [
      "Resolution Analysis:\n",
      "Percentage of issues resolved:\n",
      "Resolved\n",
      "True     99.954741\n",
      "False     0.045259\n",
      "Name: proportion, dtype: float64\n",
      "Average resolution time:\n",
      "Resolved\n",
      "False       2\n",
      "True     4417\n",
      "Name: Date, dtype: int64\n",
      "Distribution of resolution status by issue type:\n",
      "Resolved    False  True \n",
      "Issue Type              \n",
      "4G              1   2570\n",
      "FTTH            1   1279\n",
      "Inquiry         0    564\n",
      "Other           0      4\n",
      "\n"
     ]
    }
   ],
   "source": [
    "# 3. Resolution Analysis\n",
    "resolved_percentage = Telecom_2023['Resolved'].value_counts(normalize=True) * 100\n",
    "average_resolution_time = Telecom_2023.groupby('Resolved')['Date'].count()\n",
    "resolution_status_by_issue = Telecom_2023.groupby(['Issue Type', 'Resolved']).size().unstack(fill_value=0)\n",
    "\n",
    "print(\"Resolution Analysis:\")\n",
    "print(\"Percentage of issues resolved:\")\n",
    "print(resolved_percentage)\n",
    "print(\"Average resolution time:\")\n",
    "print(average_resolution_time)\n",
    "print(\"Distribution of resolution status by issue type:\")\n",
    "print(resolution_status_by_issue)\n",
    "print()"
   ]
  },
  {
   "cell_type": "code",
   "execution_count": null,
   "metadata": {},
   "outputs": [],
   "source": []
  },
  {
   "cell_type": "code",
   "execution_count": null,
   "metadata": {},
   "outputs": [],
   "source": []
  },
  {
   "cell_type": "code",
   "execution_count": null,
   "metadata": {},
   "outputs": [],
   "source": []
  },
  {
   "cell_type": "code",
   "execution_count": null,
   "metadata": {},
   "outputs": [],
   "source": []
  },
  {
   "cell_type": "code",
   "execution_count": null,
   "metadata": {},
   "outputs": [],
   "source": []
  },
  {
   "cell_type": "code",
   "execution_count": null,
   "metadata": {},
   "outputs": [],
   "source": []
  },
  {
   "cell_type": "code",
   "execution_count": null,
   "metadata": {},
   "outputs": [],
   "source": []
  },
  {
   "cell_type": "code",
   "execution_count": null,
   "metadata": {},
   "outputs": [],
   "source": []
  },
  {
   "cell_type": "code",
   "execution_count": null,
   "metadata": {},
   "outputs": [],
   "source": []
  },
  {
   "cell_type": "code",
   "execution_count": null,
   "metadata": {},
   "outputs": [],
   "source": []
  },
  {
   "cell_type": "code",
   "execution_count": null,
   "metadata": {},
   "outputs": [],
   "source": []
  },
  {
   "cell_type": "code",
   "execution_count": null,
   "metadata": {},
   "outputs": [],
   "source": []
  }
 ],
 "metadata": {
  "kernelspec": {
   "display_name": "Python 3",
   "language": "python",
   "name": "python3"
  },
  "language_info": {
   "codemirror_mode": {
    "name": "ipython",
    "version": 3
   },
   "file_extension": ".py",
   "mimetype": "text/x-python",
   "name": "python",
   "nbconvert_exporter": "python",
   "pygments_lexer": "ipython3",
   "version": "3.11.1"
  }
 },
 "nbformat": 4,
 "nbformat_minor": 2
}
